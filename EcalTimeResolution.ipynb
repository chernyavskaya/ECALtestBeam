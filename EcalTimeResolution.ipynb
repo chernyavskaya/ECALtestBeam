{
 "cells": [
  {
   "cell_type": "code",
   "execution_count": 1,
   "metadata": {},
   "outputs": [
    {
     "name": "stdout",
     "output_type": "stream",
     "text": [
      "Welcome to JupyROOT 6.18/00\n"
     ]
    }
   ],
   "source": [
    "import ROOT\n",
    "from ROOT import RooRealVar,RooCBShape,RooDataHist,RooArgList,RooFit\n",
    "from ROOT import gROOT,gStyle,gPad\n",
    "from ROOT import std\n",
    "import csv\n",
    "import json\n",
    "from array import array\n",
    "import matplotlib\n",
    "import matplotlib.pyplot as plt\n",
    "from scipy.optimize import curve_fit\n",
    "import os\n",
    "\n",
    "import numpy as np\n",
    "\n",
    "\n",
    "import sys\n",
    "sys.path.insert(0, 'utils/')\n",
    "import CBfunction as CB\n",
    "reload(CB)\n",
    "import CrystalMap as crystMap\n",
    "reload(crystMap)\n",
    "from uncertainties import unumpy\n",
    "from uncertainties import ufloat\n",
    "import pandas as pd"
   ]
  },
  {
   "cell_type": "code",
   "execution_count": 2,
   "metadata": {},
   "outputs": [],
   "source": [
    "outstr = 'cb'\n",
    "#trees_path = '/eos/cms/store/group/dpg_ecal/comm_ecal/upgrade/testbeam/ECALTB_H4_Oct2018/ntuples_v5/'\n",
    "trees_path = '/eos/user/n/nchernya/ntuples/ECAL/Upgrade/ECAL_TB_Oct2018/ntuples_v7/'\n",
    "\n",
    "dir_str = '/21_08_2019/'\n",
    "plot_folder = 'plots/'+dir_str\n",
    "output_folder = 'output/'+dir_str\n",
    "if not os.path.exists(plot_folder):\n",
    "    os.makedirs(plot_folder)\n",
    "if not os.path.exists(output_folder):\n",
    "    os.makedirs(output_folder)"
   ]
  },
  {
   "cell_type": "code",
   "execution_count": 3,
   "metadata": {},
   "outputs": [],
   "source": [
    "dict_C3_energy_scan = {}\n",
    "##Now add runs for C2,C3,C4 \n",
    "reader = csv.reader(open('data/energyscans19C.csv', 'r'))\n",
    "for row in reader:\n",
    "    run,energy,crystal,_,_,_ = row\n",
    "    if crystal=='C3' :\n",
    "        if energy in dict_C3_energy_scan.keys() :\n",
    "            dict_C3_energy_scan[energy].append(run)\n",
    "        else : \n",
    "            dict_C3_energy_scan[energy] = []\n",
    "            dict_C3_energy_scan[energy].append(run)        \n",
    "\n",
    "            \n",
    "## Read crystal centers prepared by Simone \n",
    "reader = csv.reader(open('data/crystalscenters.csv', 'r'))\n",
    "dict_crystal_centers={}\n",
    "for row in reader:\n",
    "    crystal,xpos,ypos = row\n",
    "    if crystal!='Crystal' :\n",
    "        dict_crystal_centers[crystal] = [int(xpos),int(ypos)]\n",
    "        \n",
    "dict_crystal_centers['C3_3x3'] =[4,5]       \n",
    "        \n",
    "naming = []\n",
    "for i in range(5,0,-1):\n",
    "    naming.append('A%d'%i)\n",
    "    naming.append('B%d'%i)\n",
    "    naming.append('C%d'%i)\n",
    "    naming.append('D%d'%i)\n",
    "    naming.append('E%d'%i)\n",
    "missing = 'A5,A4,E5,E4'.split(',')\n",
    "working = [item for item in naming]\n",
    "for item in missing:\n",
    "    working.remove(item)\n",
    "    \n",
    "matrix_3 = 'B4,C4,D4,B3,C3,D3,B2,C2,D2'.split(',')\n",
    "matrix_5 = 'B5,C5,D5,B4,C4,D4,B3,C3,D3,B2,C2,D2,A1,B1,C1,D1,E1'.split(',')            "
   ]
  },
  {
   "cell_type": "markdown",
   "metadata": {},
   "source": [
    "# Prepare time data for the minimization"
   ]
  },
  {
   "cell_type": "code",
   "execution_count": 4,
   "metadata": {},
   "outputs": [],
   "source": [
    "crystal='C3'\n",
    "energies = sorted([float(item) for item in dict_C3_energy_scan.keys()])\n",
    "energies = [str(item) for item in energies]"
   ]
  },
  {
   "cell_type": "code",
   "execution_count": null,
   "metadata": {},
   "outputs": [],
   "source": [
    "dict_df_energy = {}\n",
    "\n",
    "for energy in energies:\n",
    "    round_energy = round(float(energy),-1)\n",
    "    if round_energy ==240 : round_energy = 250\n",
    "        \n",
    "    runs = dict_C3_energy_scan[energy]\n",
    "    tree = ROOT.TChain(\"h4\")\n",
    "    for run in runs:\n",
    "        tree.Add(\"%s/ECAL_H4_October2018_%s.root\"%(trees_path,run))\n",
    "        pos_cut = 4\n",
    "    data = []\n",
    "    for evt in tree:\n",
    "        if evt.fit_ampl[getattr(evt, crystal)]>1000 and evt.fit_ampl[evt.MCP1]>100 and evt.fit_ampl[evt.MCP2]>100 and evt.n_tracks==1 and abs(evt.X[0]-dict_crystal_centers[crystal][0])<pos_cut and abs(evt.Y[0]-dict_crystal_centers[crystal][1])<pos_cut : \n",
    "            evt_dict = {}\n",
    "            evt_dict['Energy'] = evt.Energy\n",
    "            evt_dict['fit_ampl_MCP1'] = evt.fit_ampl[evt.MCP1]/evt.b_rms[evt.MCP1]\n",
    "            evt_dict['fit_ampl_MCP2'] = evt.fit_ampl[evt.MCP2]/evt.b_rms[evt.MCP2]\n",
    "            evt_dict['fit_time_MCP1'] = evt.fit_time[evt.MCP1]\n",
    "            evt_dict['fit_time_MCP2'] = evt.fit_time[evt.MCP2]\n",
    "            for xstal in ['C3']:\n",
    "                evt_dict['fit_ampl_'+xstal] = evt.fit_ampl[getattr(evt, xstal)]\n",
    "                evt_dict['noise_'+xstal] = evt.b_rms[getattr(evt, xstal)]\n",
    "                evt_dict['fit_time_'+xstal] = evt.fit_time[getattr(evt, xstal)]\n",
    "                evt_dict['fit_terr_'+xstal] = evt.fit_terr[getattr(evt, xstal)]\n",
    "                evt_dict['dt_ecal_mcp1_'+xstal] = ((evt.fit_time[getattr(evt, xstal)]-evt.fit_time[evt.MCP1]+evt.fit_time[evt.VFE_CLK])-int((evt.fit_time[getattr(evt, xstal)]-evt.fit_time[evt.MCP1]+evt.fit_time[evt.VFE_CLK])/6.238)*6.238)*1000\n",
    "                evt_dict['dt_ecal_mcp2_'+xstal] = ((evt.fit_time[getattr(evt, xstal)]-evt.fit_time[evt.MCP2]+evt.fit_time[evt.VFE_CLK])-int((evt.fit_time[getattr(evt, xstal)]-evt.fit_time[evt.MCP2]+evt.fit_time[evt.VFE_CLK])/6.238)*6.238)*1000\n",
    "                evt_dict['dt_mcp2_mcp1_'+xstal] = (evt.fit_time[evt.MCP2]-evt.fit_time[evt.MCP1])*1000.\n",
    "                evt_dict['dt_mcp2_mcp1_'+xstal] = (evt.fit_time[evt.MCP2]-evt.fit_time[evt.MCP1])*1000.\n",
    "    \n",
    "            data.append(evt_dict)\n",
    "\n",
    "    df = pd.DataFrame(data) \n",
    "    dict_df_energy[energy] = df\n",
    "\n",
    "    pd_name = '%s/ECAL_H4_October2018_pandas_C3_%s.csv'%(trees_path,int(round_energy))\n",
    "    df.to_csv(pd_name)\n"
   ]
  },
  {
   "cell_type": "code",
   "execution_count": null,
   "metadata": {},
   "outputs": [],
   "source": []
  },
  {
   "cell_type": "code",
   "execution_count": 5,
   "metadata": {},
   "outputs": [],
   "source": [
    "### Only used when I dont want to rerun the dataframe creation (takes longer than read csv file)\n",
    "dict_df_energy = {}\n",
    "for energy in energies:\n",
    "    round_energy = round(float(energy),-1)\n",
    "    if round_energy ==240 : round_energy = 250\n",
    "    pd_name = '%s/ECAL_H4_October2018_pandas_C3_%d.csv'%(trees_path,int(round_energy))\n",
    "    df = pd.read_csv(pd_name)    \n",
    "    dict_df_energy[energy] = df"
   ]
  },
  {
   "cell_type": "markdown",
   "metadata": {},
   "source": [
    "## Event selection"
   ]
  },
  {
   "cell_type": "code",
   "execution_count": 6,
   "metadata": {},
   "outputs": [],
   "source": [
    "dt_cut = 300\n",
    "#Event selection\n",
    "for energy in energies:\n",
    "    df = dict_df_energy[energy]\n",
    "    dict_df_energy[energy] = df.loc[(df.dt_ecal_mcp1_C3<df['dt_ecal_mcp1_C3'].mean()+dt_cut) & (df.dt_ecal_mcp1_C3>df['dt_ecal_mcp1_C3'].mean()-dt_cut) \n",
    "      & (df.dt_ecal_mcp2_C3<df['dt_ecal_mcp2_C3'].mean()+dt_cut) & (df.dt_ecal_mcp2_C3>df['dt_ecal_mcp2_C3'].mean()-dt_cut) \n",
    "      & (df.dt_mcp2_mcp1_C3<df['dt_mcp2_mcp1_C3'].mean()+dt_cut) & (df.dt_mcp2_mcp1_C3>df['dt_mcp2_mcp1_C3'].mean()-dt_cut)]"
   ]
  },
  {
   "cell_type": "markdown",
   "metadata": {},
   "source": []
  },
  {
   "cell_type": "code",
   "execution_count": 7,
   "metadata": {},
   "outputs": [
    {
     "data": {
      "text/plain": [
       "0"
      ]
     },
     "execution_count": 7,
     "metadata": {},
     "output_type": "execute_result"
    }
   ],
   "source": [
    "gROOT.LoadMacro('utils/LLminimizer/LLminimizer.cc')\n"
   ]
  },
  {
   "cell_type": "code",
   "execution_count": null,
   "metadata": {
    "scrolled": true
   },
   "outputs": [],
   "source": [
    "results_params = {}\n",
    "for energy in energies:\n",
    "    print 'Analyzing energy ',energy\n",
    "    df = dict_df_energy[energy]\n",
    "    time_minimizer = ROOT.LLminimizer(df['fit_ampl_MCP1'].shape[0],array('d',list(df['fit_ampl_MCP1'])),array('d',list(df['fit_ampl_MCP2'])),array('d',list(df['dt_ecal_mcp1_C3'])),array('d',list(df['dt_ecal_mcp2_C3'])),array('d',list(df['dt_mcp2_mcp1_C3'])),crystal,energy)\n",
    "    time_minimizer.MinimizeNLL()\n",
    "    res = {}\n",
    "    res['Cm'] = [time_minimizer.m_Cm_,time_minimizer.m_Cm_e_]\n",
    "    res['a1'] = [time_minimizer.m_a1_,time_minimizer.m_a1_e_]\n",
    "    res['b1'] = [time_minimizer.m_b1_,time_minimizer.m_b1_e_]\n",
    "    res['a2'] = [time_minimizer.m_a2_,time_minimizer.m_a2_e_]\n",
    "    res['b2'] = [time_minimizer.m_b2_,time_minimizer.m_b2_e_]\n",
    "    res['alpha'] = [time_minimizer.m_alpha_,time_minimizer.m_alpha_e_]\n",
    "    res['beta'] = [time_minimizer.m_beta_,time_minimizer.m_beta_e_]\n",
    "    res['gamma'] = [time_minimizer.m_gamma_,time_minimizer.m_gamma_e_]   \n",
    "    results_params[energy] = res\n"
   ]
  },
  {
   "cell_type": "code",
   "execution_count": 11,
   "metadata": {},
   "outputs": [
    {
     "data": {
      "text/plain": [
       "-55794.12249229428"
      ]
     },
     "execution_count": 11,
     "metadata": {},
     "output_type": "execute_result"
    }
   ],
   "source": [
    "par = array('d', [30, 1000, 10, 1000, 10, 2489.52, 1143.24, -4884.37, 0.3, 0.3, 0.3])\n",
    "time_minimizer.NegLogLikelihood(par)"
   ]
  },
  {
   "cell_type": "code",
   "execution_count": 9,
   "metadata": {},
   "outputs": [],
   "source": [
    "#print results_params\n",
    "cm_res = array('d')\n",
    "energies_float = array('d')\n",
    "cm_e_res = array('d')\n",
    "energies_float_e = array('d')\n",
    "\n",
    "beam_scan_resolution = 0.005\n",
    "\n",
    "for energy in energies:\n",
    "    cm_res.append(results_params[energy]['Cm'][0])\n",
    "    cm_e_res.append(results_params[energy]['Cm'][1])\n",
    "    energies_float.append(float(energy))\n",
    "    energies_float_e.append(float(energy)*beam_scan_resolution)"
   ]
  },
  {
   "cell_type": "markdown",
   "metadata": {},
   "source": [
    "# Plot time resolution"
   ]
  },
  {
   "cell_type": "code",
   "execution_count": 10,
   "metadata": {},
   "outputs": [],
   "source": [
    "gROOT.ProcessLineSync(\".x utils/setTDRStyle.C\")\n",
    "gROOT.ForceStyle()\n",
    "gStyle.SetPadTopMargin(0.06)\n",
    "gStyle.SetPadRightMargin(0.04)\n",
    "gStyle.SetPadLeftMargin(0.2)"
   ]
  },
  {
   "cell_type": "code",
   "execution_count": 11,
   "metadata": {},
   "outputs": [
    {
     "name": "stderr",
     "output_type": "stream",
     "text": [
      "Info in <TCanvas::Print>: pdf file plots//21_08_2019//time_res_cb.pdf has been created\n",
      "Info in <TCanvas::Print>: png file plots//21_08_2019//time_res_cb.png has been created\n"
     ]
    },
    {
     "data": {
      "image/png": "[encoded data removed]",
      "text/plain": [
       "<IPython.core.display.Image object>"
      ]
     },
     "metadata": {},
     "output_type": "display_data"
    }
   ],
   "source": [
    "c1 = ROOT.TCanvas(\"c\",\"c\",500,500)\n",
    "c1.SetTickx(0)\n",
    "\n",
    "\n",
    "gres = ROOT.TGraphErrors(len(energies_float), energies_float , cm_res, energies_float_e, cm_e_res)\n",
    "gres.SetTitle(\";Beam Energy (GeV); Time resolution (ps)\")\n",
    "gres.Draw(\"AP\")\n",
    "gres.GetXaxis().SetNdivisions(507)\n",
    "gres.GetYaxis().SetRangeUser(0, 50)\n",
    "gres.Draw(\"AP\")\n",
    "st = gres.GetListOfFunctions().FindObject(\"stats\")\n",
    "#st.Delete()\n",
    "lg = ROOT.TLegend(0.38, 0.7, 0.9, 0.9)\n",
    "lg.AddEntry(gres, \"Single channel, 160 MS/s\", \"p\")\n",
    "lg.SetFillStyle(-1)\n",
    "lg.SetBorderSize(0)\n",
    "lg.SetTextFont(42)\n",
    "lg.SetTextSize(0.04)\n",
    "lg.Draw(\"same\")\n",
    "c1.Draw()\n",
    "\n",
    "c1.SetTopMargin(0.1)\n",
    "c1.Draw()\n",
    "c1.SaveAs('%s/time_res_%s.pdf'%(plot_folder,outstr))\n",
    "c1.SaveAs('%s/time_res_%s.png'%(plot_folder,outstr))\n"
   ]
  },
  {
   "cell_type": "code",
   "execution_count": 12,
   "metadata": {},
   "outputs": [
    {
     "name": "stdout",
     "output_type": "stream",
     "text": [
      "{'Cm': [41.80730011046011, 0.11182042201474829], 'a1': [865.9938830819859, 11.088640085738177], 'beta': [1226.609390541299, 0.20365769519946753], 'a2': [872.8685758608519, 13.507929114111619], 'b1': [8.11126593041096, 0.6389065611411628], 'b2': [15.326316427982846, 0.32553557943414724], 'alpha': [2573.7568250101885, 0.19875515798025845], 'gamma': [-4891.159423377049, 0.10925270942243515]}\n",
      "\n",
      "{'Cm': [32.69358445259422, 0.11708763934990785], 'a1': [887.6573541791487, 11.644224520681746], 'beta': [1186.7867199949656, 0.19277473546208057], 'a2': [639.8907512514015, 16.237814690198718], 'b1': [12.6467264068078, 0.3394446482728961], 'b2': [9.9777409208809, 0.4094102328710001], 'alpha': [2528.8663131483827, 0.20775297488967226], 'gamma': [-4895.545234161067, 0.12326066867535701]}\n",
      "\n",
      "{'Cm': [34.43503304411864, 0.0887030601583163], 'a1': [882.5956277761887, 9.202194152751645], 'beta': [1150.060112450223, 0.15620600266151996], 'a2': [985.4570228207882, 10.62683313453283], 'b1': [7.23509760897183, 0.4823902665764339], 'b2': [14.53504361063455, 0.22532636811998064], 'alpha': [2497.1696045725166, 0.15015979806344149], 'gamma': [-4891.237523717504, 0.092990587048007]}\n",
      "\n",
      "{'Cm': [35.47406278003414, 0.08936356940046508], 'a1': [874.8133219370901, 9.376005902581767], 'beta': [1140.7674885933134, 0.15866195711146247], 'a2': [987.9764599414963, 10.397968976550771], 'b1': [7.518596498048121, 0.4739452214165807], 'b2': [14.70020122307663, 0.22855586682896512], 'alpha': [2490.024111239512, 0.15207672234100755], 'gamma': [-4889.176545940669, 0.09231561217075068]}\n",
      "\n",
      "{'Cm': [29.961997123390304, 0.08168037053880539], 'a1': [883.0422907316865, 8.577630502489399], 'beta': [1134.515372753293, 0.13966185337676507], 'a2': [999.9999768876305, 1.056477995134287], 'b1': [7.1606083411421135, 0.39087421754546536], 'b2': [14.43724611874633, 0.16891474864469025], 'alpha': [2482.0683282992877, 0.13289910449861964], 'gamma': [-4890.809890535363, 0.09043776347016319]}\n",
      "\n"
     ]
    }
   ],
   "source": [
    "for energy in energies:\n",
    "    print     results_params[energy]\n",
    "    print\n"
   ]
  },
  {
   "cell_type": "markdown",
   "metadata": {},
   "source": [
    "## Plot time differences"
   ]
  },
  {
   "cell_type": "code",
   "execution_count": 13,
   "metadata": {
    "scrolled": true
   },
   "outputs": [
    {
     "data": {
      "image/png": "[encoded data removed]",
      "text/plain": [
       "<Figure size 432x288 with 1 Axes>"
      ]
     },
     "metadata": {
      "needs_background": "light"
     },
     "output_type": "display_data"
    },
    {
     "data": {
      "image/png": "[encoded data removed]",
      "text/plain": [
       "<Figure size 432x288 with 1 Axes>"
      ]
     },
     "metadata": {
      "needs_background": "light"
     },
     "output_type": "display_data"
    },
    {
     "name": "stderr",
     "output_type": "stream",
     "text": [
      "/cvmfs/sft.cern.ch/lcg/views/LCG_96/x86_64-centos7-gcc8-opt/lib/python2.7/site-packages/matplotlib/axes/_axes.py:6571: UserWarning: The 'normed' kwarg is deprecated, and has been replaced by the 'density' kwarg.\n",
      "  warnings.warn(\"The 'normed' kwarg is deprecated, and has been \"\n",
      "/usr/local/bin/start_ipykernel.py:18: MatplotlibDeprecationWarning: scipy.stats.norm.pdf\n"
     ]
    },
    {
     "name": "stdout",
     "output_type": "stream",
     "text": [
      "2.0148888565712637 10.834945670209006 -4890.210454310323 26.57723910424803\n"
     ]
    },
    {
     "data": {
      "image/png": "[encoded data removed]",
      "text/plain": [
       "<Figure size 432x288 with 1 Axes>"
      ]
     },
     "metadata": {
      "needs_background": "light"
     },
     "output_type": "display_data"
    },
    {
     "data": {
      "image/png": "[encoded data removed]",
      "text/plain": [
       "<Figure size 432x288 with 1 Axes>"
      ]
     },
     "metadata": {
      "needs_background": "light"
     },
     "output_type": "display_data"
    },
    {
     "data": {
      "image/png": "[encoded data removed]",
      "text/plain": [
       "<Figure size 432x288 with 1 Axes>"
      ]
     },
     "metadata": {
      "needs_background": "light"
     },
     "output_type": "display_data"
    },
    {
     "data": {
      "image/png": "[encoded data removed]",
      "text/plain": [
       "<Figure size 432x288 with 1 Axes>"
      ]
     },
     "metadata": {
      "needs_background": "light"
     },
     "output_type": "display_data"
    },
    {
     "data": {
      "image/png": "[encoded data removed]",
      "text/plain": [
       "<Figure size 432x288 with 1 Axes>"
      ]
     },
     "metadata": {
      "needs_background": "light"
     },
     "output_type": "display_data"
    }
   ],
   "source": [
    "df = dict_df_energy[energies[0]]  #which energy to plot\n",
    "\n",
    "plt.hist(list(df['fit_ampl_MCP1']),bins=50,range=[0,400])\n",
    "plt.show()\n",
    "plt.hist(list(df['fit_ampl_MCP2']),bins=50,range=[0,400])\n",
    "plt.show()\n",
    "\n",
    "\n",
    "from scipy.stats import norm\n",
    "import matplotlib.mlab as mlab\n",
    "#val = list(df.loc[(df.dt_ecal_mcp1_C3>2400) & (df.dt_ecal_mcp1_C3<2600)]['dt_ecal_mcp1_C3'])\n",
    "val = list(df['dt_mcp2_mcp1_C3'])\n",
    "\n",
    "n,bins,_ = plt.hist(val,bins=50,normed=1)\n",
    "# best fit of data\n",
    "(mu, sigma) = norm.fit(val,loc=2482.814488891773,scale=30.)\n",
    "# add a 'best fit' line\n",
    "y = mlab.normpdf( bins, mu, sigma)\n",
    "l = plt.plot(bins, y, 'r-', linewidth=2)\n",
    "\n",
    "from scipy.stats import crystalball\n",
    "# best fit of data\n",
    "beta, cb_m, loc, scale = crystalball.fit(val,loc=2482.814488891773,scale=30.)\n",
    "# add a 'best fit' line\n",
    "y = crystalball.pdf( bins, beta, cb_m, loc, scale)\n",
    "l = plt.plot(bins, y, 'g--', linewidth=2)\n",
    "print beta,cb_m,loc,scale\n",
    "plt.show()\n",
    "\n",
    "\n",
    "plt.hist(list(df['dt_ecal_mcp2_C3']),bins=50)\n",
    "plt.show()\n",
    "plt.hist(list(df['dt_mcp2_mcp1_C3']),bins=50)\n",
    "plt.show()\n",
    "plt.hist(list(df['fit_time_MCP2']),bins=50,range=[0,30])\n",
    "plt.show()\n",
    "plt.hist(list(df['fit_time_MCP1']),bins=50,range=[0,30])\n",
    "plt.show()\n"
   ]
  },
  {
   "cell_type": "code",
   "execution_count": 9,
   "metadata": {},
   "outputs": [
    {
     "data": {
      "image/png": "[encoded data removed]",
      "text/plain": [
       "<Figure size 432x288 with 1 Axes>"
      ]
     },
     "metadata": {
      "needs_background": "light"
     },
     "output_type": "display_data"
    }
   ],
   "source": [
    "df = dict_df_energy[energies[-1]]  #which energy to plot\n",
    "plt.hist(list(df['dt_ecal_mcp2_C3']),bins=50)\n",
    "plt.show()\n",
    "\n"
   ]
  },
  {
   "cell_type": "code",
   "execution_count": 14,
   "metadata": {},
   "outputs": [
    {
     "name": "stdout",
     "output_type": "stream",
     "text": [
      "dt1 : energy 49.99, mean = 2573.665, std = 45.263, (75%                        )/2 = 28.235\n",
      "dt2 : energy 49.99, mean = 1226.474, std = 46.421, (75%                        )/2 = 29.715\n",
      "dt12MCP : energy 49.99, mean = -4890.809, std = 27.553, (75%                        )/2 = 16.849\n",
      "\n",
      "dt1 : energy 99.83, mean = 2528.722, std = 38.361, (75%                        )/2 = 19.253\n",
      "dt2 : energy 99.83, mean = 1186.873, std = 35.498, (75%                        )/2 = 17.884\n",
      "dt12MCP : energy 99.83, mean = -4896.151, std = 24.545, (75%                        )/2 = 14.933\n",
      "\n",
      "dt1 : energy 149.12, mean = 2496.964, std = 38.253, (75%                        )/2 = 21.962\n",
      "dt2 : energy 149.12, mean = 1149.755, std = 40.002, (75%                        )/2 = 23.450\n",
      "dt12MCP : energy 149.12, mean = -4890.792, std = 26.994, (75%                        )/2 = 15.994\n",
      "\n",
      "dt1 : energy 197.27, mean = 2489.837, std = 39.079, (75%                        )/2 = 23.403\n",
      "dt2 : energy 197.27, mean = 1140.389, std = 41.109, (75%                        )/2 = 25.124\n",
      "dt12MCP : energy 197.27, mean = -4888.552, std = 26.960, (75%                        )/2 = 16.059\n",
      "\n",
      "dt1 : energy 243.48, mean = 2481.766, std = 33.995, (75%                        )/2 = 19.926\n",
      "dt2 : energy 243.48, mean = 1134.125, std = 36.231, (75%                        )/2 = 21.534\n",
      "dt12MCP : energy 243.48, mean = -4890.359, std = 26.687, (75%                        )/2 = 15.763\n",
      "\n"
     ]
    }
   ],
   "source": [
    "for energy in energies:\n",
    "    df = dict_df_energy[energy]\n",
    "    print \"dt1 : energy %s, mean = %.3f, std = %.3f, (75%-25%)/2 = %.3f\"%(energy,df['dt_ecal_mcp1_C3'].mean(),df['dt_ecal_mcp1_C3'].std(),(df['dt_ecal_mcp1_C3'].quantile(0.75)-df['dt_ecal_mcp1_C3'].quantile(0.25))/2)\n",
    "    print \"dt2 : energy %s, mean = %.3f, std = %.3f, (75%-25%)/2 = %.3f\"%(energy,df['dt_ecal_mcp2_C3'].mean(),df['dt_ecal_mcp2_C3'].std(),(df['dt_ecal_mcp2_C3'].quantile(0.75)-df['dt_ecal_mcp2_C3'].quantile(0.25))/2)\n",
    "    print \"dt12MCP : energy %s, mean = %.3f, std = %.3f, (75%-25%)/2 = %.3f\"%(energy,df['dt_mcp2_mcp1_C3'].mean(),df['dt_mcp2_mcp1_C3'].std(),(df['dt_mcp2_mcp1_C3'].quantile(0.75)-df['dt_mcp2_mcp1_C3'].quantile(0.25))/2)\n",
    "    print "
   ]
  },
  {
   "cell_type": "code",
   "execution_count": null,
   "metadata": {},
   "outputs": [],
   "source": [
    "loaded = np.load(\"data/ecal_time_resolution_160MHz_18deg_data.npz\")\n",
    "ampl = loaded[\"ampl\"].item()\n",
    "noise = loaded[\"noise\"].item()\n",
    "dt = loaded[\"dt\"].item()\n",
    "res_mcp = loaded[\"res_mcp\"].item()\n",
    "\n",
    "e_spectra = {}\n",
    "e_fitfuncs = {}\n",
    "for e, values in ampl.items():\n",
    "    e_spectra[e] = ROOT.TH1F('spectrum_'+e, '', 200, values.mean()-3*values.std(), values.mean()+1.5*values.std())\n",
    "    for amp in values:\n",
    "        e_spectra[e].Fill(amp)\n",
    "\n",
    "    e_fitfuncs[e] = ROOT.TF1('e_fitfunc_'+e, 'crystalball', values.mean()-3*values.std(), values.mean()+1.5*values.std())\n",
    "    chi2 = 1e6\n",
    "    while chi2 > 1e3:\n",
    "        e_fitfuncs[e].SetParameters(100, values.mean(), values.std(), np.random.rand(1)*10, 10)\n",
    "        e_fitfuncs[e].SetParLimits(0, 0, 1e5)\n",
    "        e_fitfuncs[e].SetParLimits(1, 1000, 10000)\n",
    "        res = e_spectra[e].Fit(e_fitfuncs[e], \"SRBQ\")\n",
    "        chi2 = res.Chi2()\n",
    "\n",
    "    print(chi2)"
   ]
  },
  {
   "cell_type": "code",
   "execution_count": null,
   "metadata": {},
   "outputs": [],
   "source": [
    "print energies[0:2]"
   ]
  },
  {
   "cell_type": "code",
   "execution_count": null,
   "metadata": {},
   "outputs": [],
   "source": []
  }
 ],
 "metadata": {
  "kernelspec": {
   "display_name": "Python 2",
   "language": "python",
   "name": "python2"
  },
  "language_info": {
   "codemirror_mode": {
    "name": "ipython",
    "version": 2
   },
   "file_extension": ".py",
   "mimetype": "text/x-python",
   "name": "python",
   "nbconvert_exporter": "python",
   "pygments_lexer": "ipython2",
   "version": "2.7.16"
  }
 },
 "nbformat": 4,
 "nbformat_minor": 2
}
